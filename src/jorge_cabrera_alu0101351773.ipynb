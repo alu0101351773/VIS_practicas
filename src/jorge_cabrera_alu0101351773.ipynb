{
 "cells": [
  {
   "cell_type": "markdown",
   "metadata": {},
   "source": [
    "# Introducción a _ggplot-plotnine_"
   ]
  },
  {
   "cell_type": "markdown",
   "metadata": {},
   "source": [
    "## 1. Representa con _ggplot_ o _plotnine_ los datos del cuarteto de ascombe"
   ]
  },
  {
   "cell_type": "markdown",
   "metadata": {},
   "source": [
    "## 2. Prepara el fichero de causa de muerte para realizar gráficos utilizando el menor número posible de bucles"
   ]
  },
  {
   "cell_type": "markdown",
   "metadata": {},
   "source": [
    "## 3. Utilizar la librería _ggplot_ o su equivalente _plotnine_ para realizar los siguientes gráficos sobre las causas de muerte en Canarias. Indica si encuentras alguna propuesta que no recomiendes utilizar, en cuyo caso presenta una alternativa más adecuada"
   ]
  },
  {
   "cell_type": "markdown",
   "metadata": {},
   "source": [
    "### Gráfico de dispersión de defunciones cada año"
   ]
  },
  {
   "cell_type": "markdown",
   "metadata": {},
   "source": [
    "### Gráfico de defunciones en el municipio de Arucas cada año "
   ]
  },
  {
   "cell_type": "markdown",
   "metadata": {},
   "source": [
    "### Gráfico de barras del total de defunciones cada año"
   ]
  },
  {
   "cell_type": "markdown",
   "metadata": {},
   "source": [
    "### Gráfico de barras apiladas por cada causa de defunción al año"
   ]
  },
  {
   "cell_type": "markdown",
   "metadata": {},
   "source": [
    "### Gráfico de burbujas en cada municipio por causa de defunción del año 2018 al 2021"
   ]
  }
 ],
 "metadata": {
  "language_info": {
   "name": "python"
  }
 },
 "nbformat": 4,
 "nbformat_minor": 2
}
